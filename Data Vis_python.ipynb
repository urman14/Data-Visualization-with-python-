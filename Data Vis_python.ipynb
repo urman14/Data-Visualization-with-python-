{
 "cells": [
  {
   "cell_type": "markdown",
   "metadata": {},
   "source": [
    "\n",
    "# BDA300/Assignment \n",
    "## Bank Marketing  Case Study\n",
    "### Data cleaning and preparation\n",
    "The head of Marketing wants to know which customers have the highest propensity for buying a Certificate of Deposit (CD) from the institution. \n"
   ]
  },
  {
   "cell_type": "markdown",
   "metadata": {},
   "source": [
    "#### Total : 170 pts\n"
   ]
  },
  {
   "cell_type": "markdown",
   "metadata": {},
   "source": [
    "### 1. Data loading [20pts]"
   ]
  },
  {
   "cell_type": "markdown",
   "metadata": {},
   "source": [
    "    a. Load customer_demographics into a dataframe. [5pts]\n",
    "    Lowercase all column names. [4pts]\n",
    "    show the first 5 rows and the list of columns and their types.[1pt]"
   ]
  },
  {
   "cell_type": "code",
   "execution_count": 50,
   "metadata": {
    "tags": []
   },
   "outputs": [
    {
     "data": {
      "text/html": [
       "<div>\n",
       "<style scoped>\n",
       "    .dataframe tbody tr th:only-of-type {\n",
       "        vertical-align: middle;\n",
       "    }\n",
       "\n",
       "    .dataframe tbody tr th {\n",
       "        vertical-align: top;\n",
       "    }\n",
       "\n",
       "    .dataframe thead th {\n",
       "        text-align: right;\n",
       "    }\n",
       "</style>\n",
       "<table border=\"1\" class=\"dataframe\">\n",
       "  <thead>\n",
       "    <tr style=\"text-align: right;\">\n",
       "      <th></th>\n",
       "      <th>Education</th>\n",
       "      <th>customer_id</th>\n",
       "      <th>AGE</th>\n",
       "      <th>marital</th>\n",
       "      <th>JOB</th>\n",
       "    </tr>\n",
       "  </thead>\n",
       "  <tbody>\n",
       "    <tr>\n",
       "      <th>0</th>\n",
       "      <td>secondary</td>\n",
       "      <td>100103</td>\n",
       "      <td>33.0</td>\n",
       "      <td>married</td>\n",
       "      <td>entrepreneur</td>\n",
       "    </tr>\n",
       "    <tr>\n",
       "      <th>1</th>\n",
       "      <td>tertiary</td>\n",
       "      <td>100106</td>\n",
       "      <td>35.0</td>\n",
       "      <td>married</td>\n",
       "      <td>management</td>\n",
       "    </tr>\n",
       "    <tr>\n",
       "      <th>2</th>\n",
       "      <td>primary</td>\n",
       "      <td>100118</td>\n",
       "      <td>57.0</td>\n",
       "      <td>married</td>\n",
       "      <td>blue-collar</td>\n",
       "    </tr>\n",
       "    <tr>\n",
       "      <th>3</th>\n",
       "      <td>primary</td>\n",
       "      <td>100119</td>\n",
       "      <td>60.0</td>\n",
       "      <td>married</td>\n",
       "      <td>retired</td>\n",
       "    </tr>\n",
       "    <tr>\n",
       "      <th>4</th>\n",
       "      <td>secondary</td>\n",
       "      <td>100121</td>\n",
       "      <td>28.0</td>\n",
       "      <td>married</td>\n",
       "      <td>blue-collar</td>\n",
       "    </tr>\n",
       "  </tbody>\n",
       "</table>\n",
       "</div>"
      ],
      "text/plain": [
       "   Education  customer_id   AGE  marital           JOB\n",
       "0  secondary       100103  33.0  married  entrepreneur\n",
       "1   tertiary       100106  35.0  married    management\n",
       "2    primary       100118  57.0  married   blue-collar\n",
       "3    primary       100119  60.0  married       retired\n",
       "4  secondary       100121  28.0  married   blue-collar"
      ]
     },
     "execution_count": 50,
     "metadata": {},
     "output_type": "execute_result"
    }
   ],
   "source": [
    "import pandas as pd\n",
    "import numpy as np\n",
    "customer_demographics = pd.read_csv('customer_demographics.csv')\n",
    "customer_demographics.head()"
   ]
  },
  {
   "cell_type": "code",
   "execution_count": 51,
   "metadata": {
    "tags": []
   },
   "outputs": [],
   "source": [
    "customer_demographics.columns = customer_demographics.columns.str.lower()"
   ]
  },
  {
   "cell_type": "code",
   "execution_count": 52,
   "metadata": {
    "tags": []
   },
   "outputs": [
    {
     "data": {
      "text/html": [
       "<div>\n",
       "<style scoped>\n",
       "    .dataframe tbody tr th:only-of-type {\n",
       "        vertical-align: middle;\n",
       "    }\n",
       "\n",
       "    .dataframe tbody tr th {\n",
       "        vertical-align: top;\n",
       "    }\n",
       "\n",
       "    .dataframe thead th {\n",
       "        text-align: right;\n",
       "    }\n",
       "</style>\n",
       "<table border=\"1\" class=\"dataframe\">\n",
       "  <thead>\n",
       "    <tr style=\"text-align: right;\">\n",
       "      <th></th>\n",
       "      <th>education</th>\n",
       "      <th>customer_id</th>\n",
       "      <th>age</th>\n",
       "      <th>marital</th>\n",
       "      <th>job</th>\n",
       "    </tr>\n",
       "  </thead>\n",
       "  <tbody>\n",
       "    <tr>\n",
       "      <th>0</th>\n",
       "      <td>secondary</td>\n",
       "      <td>100103</td>\n",
       "      <td>33.0</td>\n",
       "      <td>married</td>\n",
       "      <td>entrepreneur</td>\n",
       "    </tr>\n",
       "    <tr>\n",
       "      <th>1</th>\n",
       "      <td>tertiary</td>\n",
       "      <td>100106</td>\n",
       "      <td>35.0</td>\n",
       "      <td>married</td>\n",
       "      <td>management</td>\n",
       "    </tr>\n",
       "    <tr>\n",
       "      <th>2</th>\n",
       "      <td>primary</td>\n",
       "      <td>100118</td>\n",
       "      <td>57.0</td>\n",
       "      <td>married</td>\n",
       "      <td>blue-collar</td>\n",
       "    </tr>\n",
       "    <tr>\n",
       "      <th>3</th>\n",
       "      <td>primary</td>\n",
       "      <td>100119</td>\n",
       "      <td>60.0</td>\n",
       "      <td>married</td>\n",
       "      <td>retired</td>\n",
       "    </tr>\n",
       "    <tr>\n",
       "      <th>4</th>\n",
       "      <td>secondary</td>\n",
       "      <td>100121</td>\n",
       "      <td>28.0</td>\n",
       "      <td>married</td>\n",
       "      <td>blue-collar</td>\n",
       "    </tr>\n",
       "  </tbody>\n",
       "</table>\n",
       "</div>"
      ],
      "text/plain": [
       "   education  customer_id   age  marital           job\n",
       "0  secondary       100103  33.0  married  entrepreneur\n",
       "1   tertiary       100106  35.0  married    management\n",
       "2    primary       100118  57.0  married   blue-collar\n",
       "3    primary       100119  60.0  married       retired\n",
       "4  secondary       100121  28.0  married   blue-collar"
      ]
     },
     "execution_count": 52,
     "metadata": {},
     "output_type": "execute_result"
    }
   ],
   "source": [
    "customer_demographics.head(5)"
   ]
  },
  {
   "cell_type": "code",
   "execution_count": 119,
   "metadata": {
    "tags": []
   },
   "outputs": [
    {
     "data": {
      "text/plain": [
       "education       object\n",
       "customer_id      int64\n",
       "age            float64\n",
       "marital         object\n",
       "job             object\n",
       "dtype: object"
      ]
     },
     "execution_count": 119,
     "metadata": {},
     "output_type": "execute_result"
    }
   ],
   "source": [
    "customer_demographics.dtypes"
   ]
  },
  {
   "cell_type": "markdown",
   "metadata": {},
   "source": [
    "    b. Load customer_banking_info into a dataframe. [5pts]\n",
    "    change the column name customer_id1 to customer_id. [4pts]\n",
    "    show the first 5 rows and the list of columns and their types.[1pt]"
   ]
  },
  {
   "cell_type": "code",
   "execution_count": 120,
   "metadata": {
    "tags": []
   },
   "outputs": [
    {
     "data": {
      "text/html": [
       "<div>\n",
       "<style scoped>\n",
       "    .dataframe tbody tr th:only-of-type {\n",
       "        vertical-align: middle;\n",
       "    }\n",
       "\n",
       "    .dataframe tbody tr th {\n",
       "        vertical-align: top;\n",
       "    }\n",
       "\n",
       "    .dataframe thead th {\n",
       "        text-align: right;\n",
       "    }\n",
       "</style>\n",
       "<table border=\"1\" class=\"dataframe\">\n",
       "  <thead>\n",
       "    <tr style=\"text-align: right;\">\n",
       "      <th></th>\n",
       "      <th>customer_id1</th>\n",
       "      <th>default</th>\n",
       "      <th>balance</th>\n",
       "      <th>housing</th>\n",
       "      <th>loan</th>\n",
       "    </tr>\n",
       "  </thead>\n",
       "  <tbody>\n",
       "    <tr>\n",
       "      <th>0</th>\n",
       "      <td>122482</td>\n",
       "      <td>no</td>\n",
       "      <td>347</td>\n",
       "      <td>no</td>\n",
       "      <td>no</td>\n",
       "    </tr>\n",
       "    <tr>\n",
       "      <th>1</th>\n",
       "      <td>119725</td>\n",
       "      <td>no</td>\n",
       "      <td>3462</td>\n",
       "      <td>no</td>\n",
       "      <td>no</td>\n",
       "    </tr>\n",
       "    <tr>\n",
       "      <th>2</th>\n",
       "      <td>103490</td>\n",
       "      <td>no</td>\n",
       "      <td>157</td>\n",
       "      <td>yes</td>\n",
       "      <td>no</td>\n",
       "    </tr>\n",
       "    <tr>\n",
       "      <th>3</th>\n",
       "      <td>126218</td>\n",
       "      <td>no</td>\n",
       "      <td>3689</td>\n",
       "      <td>yes</td>\n",
       "      <td>no</td>\n",
       "    </tr>\n",
       "    <tr>\n",
       "      <th>4</th>\n",
       "      <td>104835</td>\n",
       "      <td>no</td>\n",
       "      <td>0</td>\n",
       "      <td>yes</td>\n",
       "      <td>yes</td>\n",
       "    </tr>\n",
       "  </tbody>\n",
       "</table>\n",
       "</div>"
      ],
      "text/plain": [
       "   customer_id1 default  balance housing loan\n",
       "0        122482      no      347      no   no\n",
       "1        119725      no     3462      no   no\n",
       "2        103490      no      157     yes   no\n",
       "3        126218      no     3689     yes   no\n",
       "4        104835      no        0     yes  yes"
      ]
     },
     "execution_count": 120,
     "metadata": {},
     "output_type": "execute_result"
    }
   ],
   "source": [
    "customer_banking = pd.read_csv('customer_banking_info.csv')\n",
    "customer_banking.head()"
   ]
  },
  {
   "cell_type": "code",
   "execution_count": 121,
   "metadata": {
    "tags": []
   },
   "outputs": [
    {
     "data": {
      "text/html": [
       "<div>\n",
       "<style scoped>\n",
       "    .dataframe tbody tr th:only-of-type {\n",
       "        vertical-align: middle;\n",
       "    }\n",
       "\n",
       "    .dataframe tbody tr th {\n",
       "        vertical-align: top;\n",
       "    }\n",
       "\n",
       "    .dataframe thead th {\n",
       "        text-align: right;\n",
       "    }\n",
       "</style>\n",
       "<table border=\"1\" class=\"dataframe\">\n",
       "  <thead>\n",
       "    <tr style=\"text-align: right;\">\n",
       "      <th></th>\n",
       "      <th>customer_id</th>\n",
       "      <th>default</th>\n",
       "      <th>balance</th>\n",
       "      <th>housing</th>\n",
       "      <th>loan</th>\n",
       "    </tr>\n",
       "  </thead>\n",
       "  <tbody>\n",
       "    <tr>\n",
       "      <th>0</th>\n",
       "      <td>122482</td>\n",
       "      <td>no</td>\n",
       "      <td>347</td>\n",
       "      <td>no</td>\n",
       "      <td>no</td>\n",
       "    </tr>\n",
       "    <tr>\n",
       "      <th>1</th>\n",
       "      <td>119725</td>\n",
       "      <td>no</td>\n",
       "      <td>3462</td>\n",
       "      <td>no</td>\n",
       "      <td>no</td>\n",
       "    </tr>\n",
       "    <tr>\n",
       "      <th>2</th>\n",
       "      <td>103490</td>\n",
       "      <td>no</td>\n",
       "      <td>157</td>\n",
       "      <td>yes</td>\n",
       "      <td>no</td>\n",
       "    </tr>\n",
       "    <tr>\n",
       "      <th>3</th>\n",
       "      <td>126218</td>\n",
       "      <td>no</td>\n",
       "      <td>3689</td>\n",
       "      <td>yes</td>\n",
       "      <td>no</td>\n",
       "    </tr>\n",
       "    <tr>\n",
       "      <th>4</th>\n",
       "      <td>104835</td>\n",
       "      <td>no</td>\n",
       "      <td>0</td>\n",
       "      <td>yes</td>\n",
       "      <td>yes</td>\n",
       "    </tr>\n",
       "  </tbody>\n",
       "</table>\n",
       "</div>"
      ],
      "text/plain": [
       "   customer_id default  balance housing loan\n",
       "0       122482      no      347      no   no\n",
       "1       119725      no     3462      no   no\n",
       "2       103490      no      157     yes   no\n",
       "3       126218      no     3689     yes   no\n",
       "4       104835      no        0     yes  yes"
      ]
     },
     "execution_count": 121,
     "metadata": {},
     "output_type": "execute_result"
    }
   ],
   "source": [
    "customer_banking.rename(columns={'customer_id1':'customer_id'},inplace=True)\n",
    "customer_banking.head(5)"
   ]
  },
  {
   "cell_type": "code",
   "execution_count": 122,
   "metadata": {
    "tags": []
   },
   "outputs": [
    {
     "data": {
      "text/plain": [
       "customer_id     int64\n",
       "default        object\n",
       "balance         int64\n",
       "housing        object\n",
       "loan           object\n",
       "dtype: object"
      ]
     },
     "execution_count": 122,
     "metadata": {},
     "output_type": "execute_result"
    }
   ],
   "source": [
    "customer_banking.dtypes"
   ]
  },
  {
   "cell_type": "markdown",
   "metadata": {},
   "source": [
    "### 2. Merging [10pts]"
   ]
  },
  {
   "cell_type": "markdown",
   "metadata": {},
   "source": [
    "    a. Merge the two dataframes into one unified dataframe named bank. [5pts]\n",
    "    show the first 5 rows of the new dataframe and the column names and their types. \n",
    "    b. show the first 5 rows of the new dataframe and the column names and their types. [2pts]\n",
    "    c. Save the merged dataframe into a csv file and name it customer_demo_bankinfo.csv. [3pts]\n",
    "    "
   ]
  },
  {
   "cell_type": "code",
   "execution_count": 123,
   "metadata": {
    "tags": []
   },
   "outputs": [
    {
     "data": {
      "text/html": [
       "<div>\n",
       "<style scoped>\n",
       "    .dataframe tbody tr th:only-of-type {\n",
       "        vertical-align: middle;\n",
       "    }\n",
       "\n",
       "    .dataframe tbody tr th {\n",
       "        vertical-align: top;\n",
       "    }\n",
       "\n",
       "    .dataframe thead th {\n",
       "        text-align: right;\n",
       "    }\n",
       "</style>\n",
       "<table border=\"1\" class=\"dataframe\">\n",
       "  <thead>\n",
       "    <tr style=\"text-align: right;\">\n",
       "      <th></th>\n",
       "      <th>education</th>\n",
       "      <th>customer_id</th>\n",
       "      <th>age</th>\n",
       "      <th>marital</th>\n",
       "      <th>job</th>\n",
       "      <th>default</th>\n",
       "      <th>balance</th>\n",
       "      <th>housing</th>\n",
       "      <th>loan</th>\n",
       "    </tr>\n",
       "  </thead>\n",
       "  <tbody>\n",
       "    <tr>\n",
       "      <th>0</th>\n",
       "      <td>secondary</td>\n",
       "      <td>100103</td>\n",
       "      <td>33.0</td>\n",
       "      <td>married</td>\n",
       "      <td>entrepreneur</td>\n",
       "      <td>no</td>\n",
       "      <td>2</td>\n",
       "      <td>yes</td>\n",
       "      <td>yes</td>\n",
       "    </tr>\n",
       "    <tr>\n",
       "      <th>1</th>\n",
       "      <td>tertiary</td>\n",
       "      <td>100106</td>\n",
       "      <td>35.0</td>\n",
       "      <td>married</td>\n",
       "      <td>management</td>\n",
       "      <td>no</td>\n",
       "      <td>231</td>\n",
       "      <td>yes</td>\n",
       "      <td>no</td>\n",
       "    </tr>\n",
       "    <tr>\n",
       "      <th>2</th>\n",
       "      <td>primary</td>\n",
       "      <td>100118</td>\n",
       "      <td>57.0</td>\n",
       "      <td>married</td>\n",
       "      <td>blue-collar</td>\n",
       "      <td>no</td>\n",
       "      <td>52</td>\n",
       "      <td>yes</td>\n",
       "      <td>no</td>\n",
       "    </tr>\n",
       "    <tr>\n",
       "      <th>3</th>\n",
       "      <td>primary</td>\n",
       "      <td>100119</td>\n",
       "      <td>60.0</td>\n",
       "      <td>married</td>\n",
       "      <td>retired</td>\n",
       "      <td>no</td>\n",
       "      <td>60</td>\n",
       "      <td>yes</td>\n",
       "      <td>no</td>\n",
       "    </tr>\n",
       "    <tr>\n",
       "      <th>4</th>\n",
       "      <td>secondary</td>\n",
       "      <td>100121</td>\n",
       "      <td>28.0</td>\n",
       "      <td>married</td>\n",
       "      <td>blue-collar</td>\n",
       "      <td>no</td>\n",
       "      <td>723</td>\n",
       "      <td>yes</td>\n",
       "      <td>yes</td>\n",
       "    </tr>\n",
       "  </tbody>\n",
       "</table>\n",
       "</div>"
      ],
      "text/plain": [
       "   education  customer_id   age  marital           job default  balance  \\\n",
       "0  secondary       100103  33.0  married  entrepreneur      no        2   \n",
       "1   tertiary       100106  35.0  married    management      no      231   \n",
       "2    primary       100118  57.0  married   blue-collar      no       52   \n",
       "3    primary       100119  60.0  married       retired      no       60   \n",
       "4  secondary       100121  28.0  married   blue-collar      no      723   \n",
       "\n",
       "  housing loan  \n",
       "0     yes  yes  \n",
       "1     yes   no  \n",
       "2     yes   no  \n",
       "3     yes   no  \n",
       "4     yes  yes  "
      ]
     },
     "execution_count": 123,
     "metadata": {},
     "output_type": "execute_result"
    }
   ],
   "source": [
    "bank = pd.merge(customer_demographics,customer_banking,on='customer_id')\n",
    "bank.head()"
   ]
  },
  {
   "cell_type": "code",
   "execution_count": 124,
   "metadata": {
    "tags": []
   },
   "outputs": [
    {
     "data": {
      "text/html": [
       "<div>\n",
       "<style scoped>\n",
       "    .dataframe tbody tr th:only-of-type {\n",
       "        vertical-align: middle;\n",
       "    }\n",
       "\n",
       "    .dataframe tbody tr th {\n",
       "        vertical-align: top;\n",
       "    }\n",
       "\n",
       "    .dataframe thead th {\n",
       "        text-align: right;\n",
       "    }\n",
       "</style>\n",
       "<table border=\"1\" class=\"dataframe\">\n",
       "  <thead>\n",
       "    <tr style=\"text-align: right;\">\n",
       "      <th></th>\n",
       "      <th>education</th>\n",
       "      <th>customer_id</th>\n",
       "      <th>age</th>\n",
       "      <th>marital</th>\n",
       "      <th>job</th>\n",
       "      <th>default</th>\n",
       "      <th>balance</th>\n",
       "      <th>housing</th>\n",
       "      <th>loan</th>\n",
       "    </tr>\n",
       "  </thead>\n",
       "  <tbody>\n",
       "    <tr>\n",
       "      <th>0</th>\n",
       "      <td>secondary</td>\n",
       "      <td>100103</td>\n",
       "      <td>33.0</td>\n",
       "      <td>married</td>\n",
       "      <td>entrepreneur</td>\n",
       "      <td>no</td>\n",
       "      <td>2</td>\n",
       "      <td>yes</td>\n",
       "      <td>yes</td>\n",
       "    </tr>\n",
       "    <tr>\n",
       "      <th>1</th>\n",
       "      <td>tertiary</td>\n",
       "      <td>100106</td>\n",
       "      <td>35.0</td>\n",
       "      <td>married</td>\n",
       "      <td>management</td>\n",
       "      <td>no</td>\n",
       "      <td>231</td>\n",
       "      <td>yes</td>\n",
       "      <td>no</td>\n",
       "    </tr>\n",
       "    <tr>\n",
       "      <th>2</th>\n",
       "      <td>primary</td>\n",
       "      <td>100118</td>\n",
       "      <td>57.0</td>\n",
       "      <td>married</td>\n",
       "      <td>blue-collar</td>\n",
       "      <td>no</td>\n",
       "      <td>52</td>\n",
       "      <td>yes</td>\n",
       "      <td>no</td>\n",
       "    </tr>\n",
       "    <tr>\n",
       "      <th>3</th>\n",
       "      <td>primary</td>\n",
       "      <td>100119</td>\n",
       "      <td>60.0</td>\n",
       "      <td>married</td>\n",
       "      <td>retired</td>\n",
       "      <td>no</td>\n",
       "      <td>60</td>\n",
       "      <td>yes</td>\n",
       "      <td>no</td>\n",
       "    </tr>\n",
       "    <tr>\n",
       "      <th>4</th>\n",
       "      <td>secondary</td>\n",
       "      <td>100121</td>\n",
       "      <td>28.0</td>\n",
       "      <td>married</td>\n",
       "      <td>blue-collar</td>\n",
       "      <td>no</td>\n",
       "      <td>723</td>\n",
       "      <td>yes</td>\n",
       "      <td>yes</td>\n",
       "    </tr>\n",
       "  </tbody>\n",
       "</table>\n",
       "</div>"
      ],
      "text/plain": [
       "   education  customer_id   age  marital           job default  balance  \\\n",
       "0  secondary       100103  33.0  married  entrepreneur      no        2   \n",
       "1   tertiary       100106  35.0  married    management      no      231   \n",
       "2    primary       100118  57.0  married   blue-collar      no       52   \n",
       "3    primary       100119  60.0  married       retired      no       60   \n",
       "4  secondary       100121  28.0  married   blue-collar      no      723   \n",
       "\n",
       "  housing loan  \n",
       "0     yes  yes  \n",
       "1     yes   no  \n",
       "2     yes   no  \n",
       "3     yes   no  \n",
       "4     yes  yes  "
      ]
     },
     "execution_count": 124,
     "metadata": {},
     "output_type": "execute_result"
    }
   ],
   "source": [
    "bank.head(5)\n"
   ]
  },
  {
   "cell_type": "code",
   "execution_count": 125,
   "metadata": {
    "tags": []
   },
   "outputs": [
    {
     "data": {
      "text/plain": [
       "education       object\n",
       "customer_id      int64\n",
       "age            float64\n",
       "marital         object\n",
       "job             object\n",
       "default         object\n",
       "balance          int64\n",
       "housing         object\n",
       "loan            object\n",
       "dtype: object"
      ]
     },
     "execution_count": 125,
     "metadata": {},
     "output_type": "execute_result"
    }
   ],
   "source": [
    "bank.dtypes"
   ]
  },
  {
   "cell_type": "code",
   "execution_count": 126,
   "metadata": {
    "tags": []
   },
   "outputs": [],
   "source": [
    "bank.to_csv('customer_demo_bankinfo.csv')"
   ]
  },
  {
   "cell_type": "markdown",
   "metadata": {},
   "source": [
    "### 3. Categorical variables [15pts]"
   ]
  },
  {
   "cell_type": "markdown",
   "metadata": {},
   "source": [
    "#### 3.1. Examine the variable 'marital'. [10pts]"
   ]
  },
  {
   "cell_type": "markdown",
   "metadata": {},
   "source": [
    "    a. lowercase all values under marital column. [5pts] \n",
    "    show the frequency table before and after the change. \n",
    "    b. save the frequency table for marital into a dataframe, then create a pie plot for marital. [5pts] \n",
    "    ref: https://pandas.pydata.org/docs/reference/api/pandas.DataFrame.plot.pie.html\n",
    "    "
   ]
  },
  {
   "cell_type": "code",
   "execution_count": 127,
   "metadata": {
    "tags": []
   },
   "outputs": [
    {
     "data": {
      "text/plain": [
       "married     5942\n",
       "single      3393\n",
       "divorced    1185\n",
       "DIVORCED      58\n",
       "Name: marital, dtype: int64"
      ]
     },
     "execution_count": 127,
     "metadata": {},
     "output_type": "execute_result"
    }
   ],
   "source": [
    "bank['marital'].value_counts(dropna=False)"
   ]
  },
  {
   "cell_type": "code",
   "execution_count": 128,
   "metadata": {
    "tags": []
   },
   "outputs": [
    {
     "data": {
      "text/plain": [
       "married     5942\n",
       "single      3393\n",
       "divorced    1243\n",
       "Name: marital, dtype: int64"
      ]
     },
     "execution_count": 128,
     "metadata": {},
     "output_type": "execute_result"
    }
   ],
   "source": [
    "bank['marital'] = bank['marital'].str.lower()\n",
    "bank['marital'].value_counts(dropna=False)"
   ]
  },
  {
   "cell_type": "code",
   "execution_count": 129,
   "metadata": {
    "tags": []
   },
   "outputs": [
    {
     "data": {
      "text/html": [
       "<div>\n",
       "<style scoped>\n",
       "    .dataframe tbody tr th:only-of-type {\n",
       "        vertical-align: middle;\n",
       "    }\n",
       "\n",
       "    .dataframe tbody tr th {\n",
       "        vertical-align: top;\n",
       "    }\n",
       "\n",
       "    .dataframe thead th {\n",
       "        text-align: right;\n",
       "    }\n",
       "</style>\n",
       "<table border=\"1\" class=\"dataframe\">\n",
       "  <thead>\n",
       "    <tr style=\"text-align: right;\">\n",
       "      <th></th>\n",
       "      <th>marital</th>\n",
       "    </tr>\n",
       "  </thead>\n",
       "  <tbody>\n",
       "    <tr>\n",
       "      <th>married</th>\n",
       "      <td>5942</td>\n",
       "    </tr>\n",
       "    <tr>\n",
       "      <th>single</th>\n",
       "      <td>3393</td>\n",
       "    </tr>\n",
       "    <tr>\n",
       "      <th>divorced</th>\n",
       "      <td>1243</td>\n",
       "    </tr>\n",
       "  </tbody>\n",
       "</table>\n",
       "</div>"
      ],
      "text/plain": [
       "          marital\n",
       "married      5942\n",
       "single       3393\n",
       "divorced     1243"
      ]
     },
     "execution_count": 129,
     "metadata": {},
     "output_type": "execute_result"
    }
   ],
   "source": [
    "marital_freq = pd.DataFrame(bank['marital'].value_counts(dropna=False))\n",
    "marital_freq"
   ]
  },
  {
   "cell_type": "code",
   "execution_count": 130,
   "metadata": {
    "tags": []
   },
   "outputs": [
    {
     "data": {
      "image/png": "[encoded data removed]",
      "text/plain": [
       "<Figure size 640x480 with 1 Axes>"
      ]
     },
     "metadata": {},
     "output_type": "display_data"
    }
   ],
   "source": [
    "import matplotlib.pyplot as plt\n",
    "marital_freq.plot.pie(y= 'marital')\n",
    "plt.title('Freq Table for Marital Column')\n",
    "plt.show()"
   ]
  },
  {
   "cell_type": "markdown",
   "metadata": {},
   "source": [
    "#### 3.2. Examine the variable \"Job\". [5pts] "
   ]
  },
  {
   "cell_type": "markdown",
   "metadata": {},
   "source": [
    "    a. write a code to combine the categories \"admin.\" and \"ADMINISTRATION\" for the job column as \"admin\". replace any occurrence of \"ADMINISTRATION\" or \"admin.\" with \"admin\". [5pts]\n",
    "    b. show the frequency table for the job column before and after the change. "
   ]
  },
  {
   "cell_type": "code",
   "execution_count": 131,
   "metadata": {
    "tags": []
   },
   "outputs": [
    {
     "data": {
      "text/plain": [
       "management        2391\n",
       "blue-collar       1914\n",
       "technician        1768\n",
       "admin.            1134\n",
       "services           850\n",
       "retired            757\n",
       "student            375\n",
       "self-employed      367\n",
       "unemployed         353\n",
       "entrepreneur       291\n",
       "housemaid          262\n",
       "unknown             65\n",
       "ADMINISTRATION      51\n",
       "Name: job, dtype: int64"
      ]
     },
     "execution_count": 131,
     "metadata": {},
     "output_type": "execute_result"
    }
   ],
   "source": [
    "bank['job'].value_counts(dropna=False)"
   ]
  },
  {
   "cell_type": "code",
   "execution_count": 132,
   "metadata": {
    "tags": []
   },
   "outputs": [],
   "source": [
    "bank['job'] = bank['job'].replace([\"admin.\",\"ADMINISTRATION\"],\"admin\")"
   ]
  },
  {
   "cell_type": "code",
   "execution_count": 133,
   "metadata": {
    "tags": []
   },
   "outputs": [
    {
     "data": {
      "text/plain": [
       "management       2391\n",
       "blue-collar      1914\n",
       "technician       1768\n",
       "admin            1185\n",
       "services          850\n",
       "retired           757\n",
       "student           375\n",
       "self-employed     367\n",
       "unemployed        353\n",
       "entrepreneur      291\n",
       "housemaid         262\n",
       "unknown            65\n",
       "Name: job, dtype: int64"
      ]
     },
     "execution_count": 133,
     "metadata": {},
     "output_type": "execute_result"
    }
   ],
   "source": [
    "bank['job'].value_counts(dropna=False)"
   ]
  },
  {
   "cell_type": "markdown",
   "metadata": {},
   "source": [
    "### 4. Numerical variables [45pts]"
   ]
  },
  {
   "cell_type": "markdown",
   "metadata": {},
   "source": [
    "##### <b>  4.1. Examine the age variable [15pts]\n",
    "\n",
    "    a. show the basic statistics for the age variable and the skewness value. use df.colname.skew(). [5pts]\n",
    "    b. show the histogram and qq plot for the age variable. is the age variable skewed? [5pts] \n",
    "    c. perform a log2 transformation for the age variable. show the histogram and qq plot and skewness value. is the log2 transformation normally distributed? [5pts]"
   ]
  },
  {
   "cell_type": "code",
   "execution_count": 134,
   "metadata": {
    "tags": []
   },
   "outputs": [
    {
     "data": {
      "text/plain": [
       "count    10558.000000\n",
       "mean        41.264160\n",
       "std         12.148345\n",
       "min         18.000000\n",
       "25%         32.000000\n",
       "50%         39.000000\n",
       "75%         49.000000\n",
       "max        146.000000\n",
       "Name: age, dtype: float64"
      ]
     },
     "execution_count": 134,
     "metadata": {},
     "output_type": "execute_result"
    }
   ],
   "source": [
    "bank['age'].describe()"
   ]
  },
  {
   "cell_type": "code",
   "execution_count": 135,
   "metadata": {
    "tags": []
   },
   "outputs": [
    {
     "data": {
      "text/plain": [
       "1.008184106102808"
      ]
     },
     "execution_count": 135,
     "metadata": {},
     "output_type": "execute_result"
    }
   ],
   "source": [
    "bank.age.skew()"
   ]
  },
  {
   "cell_type": "code",
   "execution_count": 152,
   "metadata": {
    "tags": []
   },
   "outputs": [
    {
     "data": {
      "text/plain": [
       "Text(0.5, 1.0, 'Histogram for Age Column Count')"
      ]
     },
     "execution_count": 152,
     "metadata": {},
     "output_type": "execute_result"
    },
    {
     "data": {
      "image/png": "[encoded data removed]",
      "text/plain": [
       "<Figure size 640x480 with 1 Axes>"
      ]
     },
     "metadata": {},
     "output_type": "display_data"
    }
   ],
   "source": [
    "import seaborn as sns\n",
    "sns.histplot(bank['age'])\n",
    "plt.title(\"Histogram for Age Column Count\")\n"
   ]
  },
  {
   "cell_type": "code",
   "execution_count": 154,
   "metadata": {
    "tags": []
   },
   "outputs": [
    {
     "data": {
      "image/png": "[encoded data removed]",
      "text/plain": [
       "<Figure size 640x480 with 1 Axes>"
      ]
     },
     "metadata": {},
     "output_type": "display_data"
    }
   ],
   "source": [
    "import statsmodels.api as spc\n",
    "spc.qqplot(bank['age'])\n",
    "plt.title(\"Q-Q Plot for Age\")\n",
    "plt.show()"
   ]
  },
  {
   "cell_type": "code",
   "execution_count": 146,
   "metadata": {
    "tags": []
   },
   "outputs": [],
   "source": [
    "# Yes the variable is skewed. \n",
    "#The age variable is rigth skewed because it has positive skewness.\n",
    "#The majority of customers fall within the approximate age range of 20 to 55.\n",
    "#However, the presence of high-value outliers causes the mean to exceed the median."
   ]
  },
  {
   "cell_type": "code",
   "execution_count": 148,
   "metadata": {
    "tags": []
   },
   "outputs": [
    {
     "data": {
      "text/plain": [
       "0    5.044394\n",
       "1    5.129283\n",
       "2    5.832890\n",
       "3    5.906891\n",
       "4    4.807355\n",
       "Name: age_log2, dtype: float64"
      ]
     },
     "execution_count": 148,
     "metadata": {},
     "output_type": "execute_result"
    }
   ],
   "source": [
    "bank['age_log2'] = np.log2(bank['age'])\n",
    "bank['age_log2'].head()"
   ]
  },
  {
   "cell_type": "code",
   "execution_count": 149,
   "metadata": {
    "tags": []
   },
   "outputs": [
    {
     "data": {
      "text/plain": [
       "0.21438373418355325"
      ]
     },
     "execution_count": 149,
     "metadata": {},
     "output_type": "execute_result"
    }
   ],
   "source": [
    "bank['age_log2'].skew()"
   ]
  },
  {
   "cell_type": "code",
   "execution_count": 157,
   "metadata": {
    "tags": []
   },
   "outputs": [
    {
     "data": {
      "image/png": "[encoded data removed]",
      "text/plain": [
       "<Figure size 640x480 with 1 Axes>"
      ]
     },
     "metadata": {},
     "output_type": "display_data"
    }
   ],
   "source": [
    "sns.histplot(bank['age_log2'])\n",
    "plt.title('Log2 transformed Age')\n",
    "plt.show()"
   ]
  },
  {
   "cell_type": "code",
   "execution_count": 158,
   "metadata": {
    "tags": []
   },
   "outputs": [
    {
     "data": {
      "image/png": "[encoded data removed]",
      "text/plain": [
       "<Figure size 640x480 with 1 Axes>"
      ]
     },
     "metadata": {},
     "output_type": "display_data"
    }
   ],
   "source": [
    "spc.qqplot(np.log2(bank['age']))\n",
    "plt.title('Q-Q Plot Log2 Transformed Age Column')\n",
    "plt.show()"
   ]
  },
  {
   "cell_type": "code",
   "execution_count": null,
   "metadata": {},
   "outputs": [],
   "source": [
    "#The skewness value being close to zero indicates that the distribution is \n",
    "#slightly positively skewed but nearly symmetrical. This observation is supported by\n",
    "#the nearly symmetrical appearance of the histogram. The Q-Q plot further suggests that \n",
    "#the age variable's distribution is mildly positively skewed and close to normal. \n",
    "#This analysis concludes that applying the log2 transformation to the age variable\n",
    "#effectively made the distribution almost symmetric. The log2 transformation reduces\n",
    "#the influence of outliers by compressing larger values."
   ]
  },
  {
   "cell_type": "markdown",
   "metadata": {},
   "source": [
    "##### <b> 4.2. Missing values [20pts]\n",
    "\n",
    "    a. show the number of missing values for each variable in the bank dataframe. 5pts\n",
    "    b. show the avg age for each job category. 5pts\n",
    "    c. add a new column to the dataframe name 'age_imputed' for replacing the missing values under the age columns with the average age given the job. 5pts\n",
    "    d. show rows with age null and all columns including age_imputed. 5pts"
   ]
  },
  {
   "cell_type": "code",
   "execution_count": 40,
   "metadata": {},
   "outputs": [
    {
     "data": {
      "text/plain": [
       "education       0\n",
       "customer_id     0\n",
       "age            20\n",
       "marital         0\n",
       "job             0\n",
       "default         0\n",
       "balance         0\n",
       "housing         0\n",
       "loan            0\n",
       "dtype: int64"
      ]
     },
     "execution_count": 40,
     "metadata": {},
     "output_type": "execute_result"
    }
   ],
   "source": [
    "bank.isnull().sum()"
   ]
  },
  {
   "cell_type": "code",
   "execution_count": 41,
   "metadata": {},
   "outputs": [
    {
     "data": {
      "text/plain": [
       "job\n",
       "ADMINISTRATION    37.274510\n",
       "admin.            39.335097\n",
       "blue-collar       39.691099\n",
       "entrepreneur      42.448276\n",
       "housemaid         47.547893\n",
       "management        40.116709\n",
       "retired           64.896962\n",
       "self-employed     39.307902\n",
       "services          38.504717\n",
       "student           25.920000\n",
       "technician        39.416431\n",
       "unemployed        41.116147\n",
       "unknown           47.123077\n",
       "Name: age, dtype: float64"
      ]
     },
     "execution_count": 41,
     "metadata": {},
     "output_type": "execute_result"
    }
   ],
   "source": [
    "bank.groupby('job')['age'].mean()"
   ]
  },
  {
   "cell_type": "code",
   "execution_count": 159,
   "metadata": {
    "tags": []
   },
   "outputs": [],
   "source": [
    "bank['age_imputed'] = bank.groupby(['job'])['age'].transform(lambda grp: grp.fillna(grp.mean()))"
   ]
  },
  {
   "cell_type": "code",
   "execution_count": 160,
   "metadata": {
    "tags": []
   },
   "outputs": [
    {
     "data": {
      "text/html": [
       "<div>\n",
       "<style scoped>\n",
       "    .dataframe tbody tr th:only-of-type {\n",
       "        vertical-align: middle;\n",
       "    }\n",
       "\n",
       "    .dataframe tbody tr th {\n",
       "        vertical-align: top;\n",
       "    }\n",
       "\n",
       "    .dataframe thead th {\n",
       "        text-align: right;\n",
       "    }\n",
       "</style>\n",
       "<table border=\"1\" class=\"dataframe\">\n",
       "  <thead>\n",
       "    <tr style=\"text-align: right;\">\n",
       "      <th></th>\n",
       "      <th>education</th>\n",
       "      <th>customer_id</th>\n",
       "      <th>age</th>\n",
       "      <th>marital</th>\n",
       "      <th>job</th>\n",
       "      <th>default</th>\n",
       "      <th>balance</th>\n",
       "      <th>housing</th>\n",
       "      <th>loan</th>\n",
       "      <th>age_log2</th>\n",
       "      <th>age_imputed</th>\n",
       "    </tr>\n",
       "  </thead>\n",
       "  <tbody>\n",
       "    <tr>\n",
       "      <th>119</th>\n",
       "      <td>tertiary</td>\n",
       "      <td>100898</td>\n",
       "      <td>NaN</td>\n",
       "      <td>married</td>\n",
       "      <td>management</td>\n",
       "      <td>no</td>\n",
       "      <td>305</td>\n",
       "      <td>yes</td>\n",
       "      <td>no</td>\n",
       "      <td>NaN</td>\n",
       "      <td>40.116709</td>\n",
       "    </tr>\n",
       "    <tr>\n",
       "      <th>592</th>\n",
       "      <td>tertiary</td>\n",
       "      <td>103782</td>\n",
       "      <td>NaN</td>\n",
       "      <td>married</td>\n",
       "      <td>technician</td>\n",
       "      <td>no</td>\n",
       "      <td>94</td>\n",
       "      <td>yes</td>\n",
       "      <td>yes</td>\n",
       "      <td>NaN</td>\n",
       "      <td>39.416431</td>\n",
       "    </tr>\n",
       "    <tr>\n",
       "      <th>784</th>\n",
       "      <td>primary</td>\n",
       "      <td>104872</td>\n",
       "      <td>NaN</td>\n",
       "      <td>married</td>\n",
       "      <td>blue-collar</td>\n",
       "      <td>no</td>\n",
       "      <td>5</td>\n",
       "      <td>yes</td>\n",
       "      <td>no</td>\n",
       "      <td>NaN</td>\n",
       "      <td>39.691099</td>\n",
       "    </tr>\n",
       "    <tr>\n",
       "      <th>1383</th>\n",
       "      <td>primary</td>\n",
       "      <td>108581</td>\n",
       "      <td>NaN</td>\n",
       "      <td>married</td>\n",
       "      <td>blue-collar</td>\n",
       "      <td>no</td>\n",
       "      <td>572</td>\n",
       "      <td>yes</td>\n",
       "      <td>yes</td>\n",
       "      <td>NaN</td>\n",
       "      <td>39.691099</td>\n",
       "    </tr>\n",
       "    <tr>\n",
       "      <th>2129</th>\n",
       "      <td>SECONDARY</td>\n",
       "      <td>112972</td>\n",
       "      <td>NaN</td>\n",
       "      <td>married</td>\n",
       "      <td>technician</td>\n",
       "      <td>no</td>\n",
       "      <td>-241</td>\n",
       "      <td>yes</td>\n",
       "      <td>yes</td>\n",
       "      <td>NaN</td>\n",
       "      <td>39.416431</td>\n",
       "    </tr>\n",
       "    <tr>\n",
       "      <th>2190</th>\n",
       "      <td>SECONDARY</td>\n",
       "      <td>113317</td>\n",
       "      <td>NaN</td>\n",
       "      <td>divorced</td>\n",
       "      <td>housemaid</td>\n",
       "      <td>no</td>\n",
       "      <td>188</td>\n",
       "      <td>no</td>\n",
       "      <td>no</td>\n",
       "      <td>NaN</td>\n",
       "      <td>47.547893</td>\n",
       "    </tr>\n",
       "    <tr>\n",
       "      <th>2506</th>\n",
       "      <td>tertiary</td>\n",
       "      <td>114933</td>\n",
       "      <td>NaN</td>\n",
       "      <td>married</td>\n",
       "      <td>blue-collar</td>\n",
       "      <td>no</td>\n",
       "      <td>597</td>\n",
       "      <td>no</td>\n",
       "      <td>no</td>\n",
       "      <td>NaN</td>\n",
       "      <td>39.691099</td>\n",
       "    </tr>\n",
       "    <tr>\n",
       "      <th>2549</th>\n",
       "      <td>primary</td>\n",
       "      <td>115167</td>\n",
       "      <td>NaN</td>\n",
       "      <td>married</td>\n",
       "      <td>management</td>\n",
       "      <td>no</td>\n",
       "      <td>3760</td>\n",
       "      <td>no</td>\n",
       "      <td>yes</td>\n",
       "      <td>NaN</td>\n",
       "      <td>40.116709</td>\n",
       "    </tr>\n",
       "    <tr>\n",
       "      <th>2977</th>\n",
       "      <td>SECONDARY</td>\n",
       "      <td>117338</td>\n",
       "      <td>NaN</td>\n",
       "      <td>divorced</td>\n",
       "      <td>services</td>\n",
       "      <td>no</td>\n",
       "      <td>293</td>\n",
       "      <td>yes</td>\n",
       "      <td>yes</td>\n",
       "      <td>NaN</td>\n",
       "      <td>38.504717</td>\n",
       "    </tr>\n",
       "    <tr>\n",
       "      <th>3989</th>\n",
       "      <td>tertiary</td>\n",
       "      <td>122821</td>\n",
       "      <td>NaN</td>\n",
       "      <td>single</td>\n",
       "      <td>management</td>\n",
       "      <td>no</td>\n",
       "      <td>0</td>\n",
       "      <td>no</td>\n",
       "      <td>no</td>\n",
       "      <td>NaN</td>\n",
       "      <td>40.116709</td>\n",
       "    </tr>\n",
       "    <tr>\n",
       "      <th>4841</th>\n",
       "      <td>tertiary</td>\n",
       "      <td>127452</td>\n",
       "      <td>NaN</td>\n",
       "      <td>married</td>\n",
       "      <td>management</td>\n",
       "      <td>no</td>\n",
       "      <td>1654</td>\n",
       "      <td>no</td>\n",
       "      <td>yes</td>\n",
       "      <td>NaN</td>\n",
       "      <td>40.116709</td>\n",
       "    </tr>\n",
       "    <tr>\n",
       "      <th>4946</th>\n",
       "      <td>primary</td>\n",
       "      <td>128062</td>\n",
       "      <td>NaN</td>\n",
       "      <td>married</td>\n",
       "      <td>blue-collar</td>\n",
       "      <td>no</td>\n",
       "      <td>264</td>\n",
       "      <td>yes</td>\n",
       "      <td>yes</td>\n",
       "      <td>NaN</td>\n",
       "      <td>39.691099</td>\n",
       "    </tr>\n",
       "    <tr>\n",
       "      <th>4954</th>\n",
       "      <td>tertiary</td>\n",
       "      <td>128123</td>\n",
       "      <td>NaN</td>\n",
       "      <td>divorced</td>\n",
       "      <td>management</td>\n",
       "      <td>no</td>\n",
       "      <td>6</td>\n",
       "      <td>yes</td>\n",
       "      <td>no</td>\n",
       "      <td>NaN</td>\n",
       "      <td>40.116709</td>\n",
       "    </tr>\n",
       "    <tr>\n",
       "      <th>5794</th>\n",
       "      <td>tertiary</td>\n",
       "      <td>131745</td>\n",
       "      <td>NaN</td>\n",
       "      <td>single</td>\n",
       "      <td>management</td>\n",
       "      <td>no</td>\n",
       "      <td>2651</td>\n",
       "      <td>no</td>\n",
       "      <td>no</td>\n",
       "      <td>NaN</td>\n",
       "      <td>40.116709</td>\n",
       "    </tr>\n",
       "    <tr>\n",
       "      <th>6550</th>\n",
       "      <td>tertiary</td>\n",
       "      <td>134418</td>\n",
       "      <td>NaN</td>\n",
       "      <td>single</td>\n",
       "      <td>management</td>\n",
       "      <td>no</td>\n",
       "      <td>1515</td>\n",
       "      <td>yes</td>\n",
       "      <td>no</td>\n",
       "      <td>NaN</td>\n",
       "      <td>40.116709</td>\n",
       "    </tr>\n",
       "    <tr>\n",
       "      <th>6610</th>\n",
       "      <td>tertiary</td>\n",
       "      <td>134663</td>\n",
       "      <td>NaN</td>\n",
       "      <td>married</td>\n",
       "      <td>management</td>\n",
       "      <td>no</td>\n",
       "      <td>0</td>\n",
       "      <td>yes</td>\n",
       "      <td>no</td>\n",
       "      <td>NaN</td>\n",
       "      <td>40.116709</td>\n",
       "    </tr>\n",
       "    <tr>\n",
       "      <th>6737</th>\n",
       "      <td>SECONDARY</td>\n",
       "      <td>135384</td>\n",
       "      <td>NaN</td>\n",
       "      <td>divorced</td>\n",
       "      <td>entrepreneur</td>\n",
       "      <td>no</td>\n",
       "      <td>-271</td>\n",
       "      <td>yes</td>\n",
       "      <td>no</td>\n",
       "      <td>NaN</td>\n",
       "      <td>42.448276</td>\n",
       "    </tr>\n",
       "    <tr>\n",
       "      <th>6795</th>\n",
       "      <td>SECONDARY</td>\n",
       "      <td>135695</td>\n",
       "      <td>NaN</td>\n",
       "      <td>single</td>\n",
       "      <td>services</td>\n",
       "      <td>no</td>\n",
       "      <td>403</td>\n",
       "      <td>yes</td>\n",
       "      <td>no</td>\n",
       "      <td>NaN</td>\n",
       "      <td>38.504717</td>\n",
       "    </tr>\n",
       "    <tr>\n",
       "      <th>9510</th>\n",
       "      <td>tertiary</td>\n",
       "      <td>143464</td>\n",
       "      <td>NaN</td>\n",
       "      <td>single</td>\n",
       "      <td>technician</td>\n",
       "      <td>no</td>\n",
       "      <td>393</td>\n",
       "      <td>no</td>\n",
       "      <td>no</td>\n",
       "      <td>NaN</td>\n",
       "      <td>39.416431</td>\n",
       "    </tr>\n",
       "    <tr>\n",
       "      <th>9538</th>\n",
       "      <td>tertiary</td>\n",
       "      <td>143512</td>\n",
       "      <td>NaN</td>\n",
       "      <td>divorced</td>\n",
       "      <td>management</td>\n",
       "      <td>no</td>\n",
       "      <td>224</td>\n",
       "      <td>no</td>\n",
       "      <td>no</td>\n",
       "      <td>NaN</td>\n",
       "      <td>40.116709</td>\n",
       "    </tr>\n",
       "  </tbody>\n",
       "</table>\n",
       "</div>"
      ],
      "text/plain": [
       "      education  customer_id  age   marital           job default  balance  \\\n",
       "119    tertiary       100898  NaN   married    management      no      305   \n",
       "592    tertiary       103782  NaN   married    technician      no       94   \n",
       "784     primary       104872  NaN   married   blue-collar      no        5   \n",
       "1383    primary       108581  NaN   married   blue-collar      no      572   \n",
       "2129  SECONDARY       112972  NaN   married    technician      no     -241   \n",
       "2190  SECONDARY       113317  NaN  divorced     housemaid      no      188   \n",
       "2506   tertiary       114933  NaN   married   blue-collar      no      597   \n",
       "2549    primary       115167  NaN   married    management      no     3760   \n",
       "2977  SECONDARY       117338  NaN  divorced      services      no      293   \n",
       "3989   tertiary       122821  NaN    single    management      no        0   \n",
       "4841   tertiary       127452  NaN   married    management      no     1654   \n",
       "4946    primary       128062  NaN   married   blue-collar      no      264   \n",
       "4954   tertiary       128123  NaN  divorced    management      no        6   \n",
       "5794   tertiary       131745  NaN    single    management      no     2651   \n",
       "6550   tertiary       134418  NaN    single    management      no     1515   \n",
       "6610   tertiary       134663  NaN   married    management      no        0   \n",
       "6737  SECONDARY       135384  NaN  divorced  entrepreneur      no     -271   \n",
       "6795  SECONDARY       135695  NaN    single      services      no      403   \n",
       "9510   tertiary       143464  NaN    single    technician      no      393   \n",
       "9538   tertiary       143512  NaN  divorced    management      no      224   \n",
       "\n",
       "     housing loan  age_log2  age_imputed  \n",
       "119      yes   no       NaN    40.116709  \n",
       "592      yes  yes       NaN    39.416431  \n",
       "784      yes   no       NaN    39.691099  \n",
       "1383     yes  yes       NaN    39.691099  \n",
       "2129     yes  yes       NaN    39.416431  \n",
       "2190      no   no       NaN    47.547893  \n",
       "2506      no   no       NaN    39.691099  \n",
       "2549      no  yes       NaN    40.116709  \n",
       "2977     yes  yes       NaN    38.504717  \n",
       "3989      no   no       NaN    40.116709  \n",
       "4841      no  yes       NaN    40.116709  \n",
       "4946     yes  yes       NaN    39.691099  \n",
       "4954     yes   no       NaN    40.116709  \n",
       "5794      no   no       NaN    40.116709  \n",
       "6550     yes   no       NaN    40.116709  \n",
       "6610     yes   no       NaN    40.116709  \n",
       "6737     yes   no       NaN    42.448276  \n",
       "6795     yes   no       NaN    38.504717  \n",
       "9510      no   no       NaN    39.416431  \n",
       "9538      no   no       NaN    40.116709  "
      ]
     },
     "execution_count": 160,
     "metadata": {},
     "output_type": "execute_result"
    }
   ],
   "source": [
    "bank[bank['age'].isnull()]"
   ]
  },
  {
   "cell_type": "markdown",
   "metadata": {},
   "source": [
    "##### <b> 4.3. Outlier detection [10pts] </b>\n",
    "\n",
    "    a. Show the box plot for the balance variable. 2pts\n",
    "    b. show the upper and lower fence for the balance variable. [3pts] \n",
    "    c. remove the outliers for the balance variable. [5pts] \n",
    "    "
   ]
  },
  {
   "cell_type": "code",
   "execution_count": 161,
   "metadata": {
    "tags": []
   },
   "outputs": [
    {
     "data": {
      "image/png": "[encoded data removed]",
      "text/plain": [
       "<Figure size 640x480 with 1 Axes>"
      ]
     },
     "metadata": {},
     "output_type": "display_data"
    }
   ],
   "source": [
    "bank.boxplot(column='balance')\n",
    "plt.show()"
   ]
  },
  {
   "cell_type": "code",
   "execution_count": 162,
   "metadata": {
    "tags": []
   },
   "outputs": [
    {
     "name": "stdout",
     "output_type": "stream",
     "text": [
      "Lower Fence:  -2335.0\n",
      "Upper Fence:  4225.0\n"
     ]
    }
   ],
   "source": [
    "Q1 = bank['balance'].quantile(0.25)\n",
    "Q3 = bank['balance'].quantile(0.75)\n",
    "IQR = Q3 - Q1\n",
    "lower_fence = Q1 - 1.5 * IQR\n",
    "upper_fence = Q3 + 1.5 * IQR\n",
    "print('Lower Fence: ', lower_fence)\n",
    "print('Upper Fence: ', upper_fence)"
   ]
  },
  {
   "cell_type": "code",
   "execution_count": 164,
   "metadata": {
    "tags": []
   },
   "outputs": [
    {
     "data": {
      "text/html": [
       "<div>\n",
       "<style scoped>\n",
       "    .dataframe tbody tr th:only-of-type {\n",
       "        vertical-align: middle;\n",
       "    }\n",
       "\n",
       "    .dataframe tbody tr th {\n",
       "        vertical-align: top;\n",
       "    }\n",
       "\n",
       "    .dataframe thead th {\n",
       "        text-align: right;\n",
       "    }\n",
       "</style>\n",
       "<table border=\"1\" class=\"dataframe\">\n",
       "  <thead>\n",
       "    <tr style=\"text-align: right;\">\n",
       "      <th></th>\n",
       "      <th>education</th>\n",
       "      <th>customer_id</th>\n",
       "      <th>age</th>\n",
       "      <th>marital</th>\n",
       "      <th>job</th>\n",
       "      <th>default</th>\n",
       "      <th>balance</th>\n",
       "      <th>housing</th>\n",
       "      <th>loan</th>\n",
       "      <th>age_log2</th>\n",
       "      <th>age_imputed</th>\n",
       "    </tr>\n",
       "  </thead>\n",
       "  <tbody>\n",
       "    <tr>\n",
       "      <th>70</th>\n",
       "      <td>unknown</td>\n",
       "      <td>100547</td>\n",
       "      <td>39.0</td>\n",
       "      <td>single</td>\n",
       "      <td>technician</td>\n",
       "      <td>no</td>\n",
       "      <td>45248</td>\n",
       "      <td>yes</td>\n",
       "      <td>no</td>\n",
       "      <td>5.285402</td>\n",
       "      <td>39.0</td>\n",
       "    </tr>\n",
       "    <tr>\n",
       "      <th>85</th>\n",
       "      <td>secondary</td>\n",
       "      <td>100670</td>\n",
       "      <td>28.0</td>\n",
       "      <td>single</td>\n",
       "      <td>services</td>\n",
       "      <td>no</td>\n",
       "      <td>5090</td>\n",
       "      <td>yes</td>\n",
       "      <td>no</td>\n",
       "      <td>4.807355</td>\n",
       "      <td>28.0</td>\n",
       "    </tr>\n",
       "    <tr>\n",
       "      <th>182</th>\n",
       "      <td>tertiary</td>\n",
       "      <td>101314</td>\n",
       "      <td>31.0</td>\n",
       "      <td>single</td>\n",
       "      <td>management</td>\n",
       "      <td>no</td>\n",
       "      <td>7444</td>\n",
       "      <td>yes</td>\n",
       "      <td>yes</td>\n",
       "      <td>4.954196</td>\n",
       "      <td>31.0</td>\n",
       "    </tr>\n",
       "    <tr>\n",
       "      <th>184</th>\n",
       "      <td>secondary</td>\n",
       "      <td>101330</td>\n",
       "      <td>36.0</td>\n",
       "      <td>married</td>\n",
       "      <td>technician</td>\n",
       "      <td>no</td>\n",
       "      <td>5611</td>\n",
       "      <td>yes</td>\n",
       "      <td>no</td>\n",
       "      <td>5.169925</td>\n",
       "      <td>36.0</td>\n",
       "    </tr>\n",
       "    <tr>\n",
       "      <th>187</th>\n",
       "      <td>secondary</td>\n",
       "      <td>101342</td>\n",
       "      <td>29.0</td>\n",
       "      <td>married</td>\n",
       "      <td>blue-collar</td>\n",
       "      <td>no</td>\n",
       "      <td>5903</td>\n",
       "      <td>yes</td>\n",
       "      <td>no</td>\n",
       "      <td>4.857981</td>\n",
       "      <td>29.0</td>\n",
       "    </tr>\n",
       "    <tr>\n",
       "      <th>...</th>\n",
       "      <td>...</td>\n",
       "      <td>...</td>\n",
       "      <td>...</td>\n",
       "      <td>...</td>\n",
       "      <td>...</td>\n",
       "      <td>...</td>\n",
       "      <td>...</td>\n",
       "      <td>...</td>\n",
       "      <td>...</td>\n",
       "      <td>...</td>\n",
       "      <td>...</td>\n",
       "    </tr>\n",
       "    <tr>\n",
       "      <th>10513</th>\n",
       "      <td>tertiary</td>\n",
       "      <td>145198</td>\n",
       "      <td>61.0</td>\n",
       "      <td>married</td>\n",
       "      <td>self-employed</td>\n",
       "      <td>no</td>\n",
       "      <td>10861</td>\n",
       "      <td>no</td>\n",
       "      <td>no</td>\n",
       "      <td>5.930737</td>\n",
       "      <td>61.0</td>\n",
       "    </tr>\n",
       "    <tr>\n",
       "      <th>10532</th>\n",
       "      <td>secondary</td>\n",
       "      <td>145231</td>\n",
       "      <td>33.0</td>\n",
       "      <td>married</td>\n",
       "      <td>technician</td>\n",
       "      <td>no</td>\n",
       "      <td>5083</td>\n",
       "      <td>no</td>\n",
       "      <td>no</td>\n",
       "      <td>5.044394</td>\n",
       "      <td>33.0</td>\n",
       "    </tr>\n",
       "    <tr>\n",
       "      <th>10549</th>\n",
       "      <td>tertiary</td>\n",
       "      <td>145265</td>\n",
       "      <td>35.0</td>\n",
       "      <td>married</td>\n",
       "      <td>services</td>\n",
       "      <td>no</td>\n",
       "      <td>4655</td>\n",
       "      <td>no</td>\n",
       "      <td>no</td>\n",
       "      <td>5.129283</td>\n",
       "      <td>35.0</td>\n",
       "    </tr>\n",
       "    <tr>\n",
       "      <th>10559</th>\n",
       "      <td>tertiary</td>\n",
       "      <td>145286</td>\n",
       "      <td>60.0</td>\n",
       "      <td>married</td>\n",
       "      <td>services</td>\n",
       "      <td>no</td>\n",
       "      <td>4256</td>\n",
       "      <td>yes</td>\n",
       "      <td>no</td>\n",
       "      <td>5.906891</td>\n",
       "      <td>60.0</td>\n",
       "    </tr>\n",
       "    <tr>\n",
       "      <th>10577</th>\n",
       "      <td>secondary</td>\n",
       "      <td>145309</td>\n",
       "      <td>72.0</td>\n",
       "      <td>married</td>\n",
       "      <td>retired</td>\n",
       "      <td>no</td>\n",
       "      <td>5715</td>\n",
       "      <td>no</td>\n",
       "      <td>no</td>\n",
       "      <td>6.169925</td>\n",
       "      <td>72.0</td>\n",
       "    </tr>\n",
       "  </tbody>\n",
       "</table>\n",
       "<p>985 rows × 11 columns</p>\n",
       "</div>"
      ],
      "text/plain": [
       "       education  customer_id   age  marital            job default  balance  \\\n",
       "70       unknown       100547  39.0   single     technician      no    45248   \n",
       "85     secondary       100670  28.0   single       services      no     5090   \n",
       "182     tertiary       101314  31.0   single     management      no     7444   \n",
       "184    secondary       101330  36.0  married     technician      no     5611   \n",
       "187    secondary       101342  29.0  married    blue-collar      no     5903   \n",
       "...          ...          ...   ...      ...            ...     ...      ...   \n",
       "10513   tertiary       145198  61.0  married  self-employed      no    10861   \n",
       "10532  secondary       145231  33.0  married     technician      no     5083   \n",
       "10549   tertiary       145265  35.0  married       services      no     4655   \n",
       "10559   tertiary       145286  60.0  married       services      no     4256   \n",
       "10577  secondary       145309  72.0  married        retired      no     5715   \n",
       "\n",
       "      housing loan  age_log2  age_imputed  \n",
       "70        yes   no  5.285402         39.0  \n",
       "85        yes   no  4.807355         28.0  \n",
       "182       yes  yes  4.954196         31.0  \n",
       "184       yes   no  5.169925         36.0  \n",
       "187       yes   no  4.857981         29.0  \n",
       "...       ...  ...       ...          ...  \n",
       "10513      no   no  5.930737         61.0  \n",
       "10532      no   no  5.044394         33.0  \n",
       "10549      no   no  5.129283         35.0  \n",
       "10559     yes   no  5.906891         60.0  \n",
       "10577      no   no  6.169925         72.0  \n",
       "\n",
       "[985 rows x 11 columns]"
      ]
     },
     "execution_count": 164,
     "metadata": {},
     "output_type": "execute_result"
    }
   ],
   "source": [
    "outliers = bank[(bank['balance'] < lower_fence) | (bank['balance'] > upper_fence)]\n",
    "outliers"
   ]
  },
  {
   "cell_type": "code",
   "execution_count": 166,
   "metadata": {
    "tags": []
   },
   "outputs": [],
   "source": [
    "# df after removing outliers\n",
    "bank = bank[(bank['balance']>= lower_fence) & (bank['balance'] <= upper_fence)]"
   ]
  },
  {
   "cell_type": "code",
   "execution_count": 167,
   "metadata": {
    "tags": []
   },
   "outputs": [
    {
     "data": {
      "text/plain": [
       "0           2\n",
       "1         231\n",
       "2          52\n",
       "3          60\n",
       "4         723\n",
       "         ... \n",
       "10572     113\n",
       "10573    2850\n",
       "10574     505\n",
       "10575     825\n",
       "10576    1729\n",
       "Name: balance, Length: 9593, dtype: int64"
      ]
     },
     "execution_count": 167,
     "metadata": {},
     "output_type": "execute_result"
    }
   ],
   "source": [
    "bank['balance']"
   ]
  },
  {
   "cell_type": "code",
   "execution_count": 168,
   "metadata": {
    "tags": []
   },
   "outputs": [
    {
     "data": {
      "image/png": "[encoded data removed]",
      "text/plain": [
       "<Figure size 640x480 with 1 Axes>"
      ]
     },
     "metadata": {},
     "output_type": "display_data"
    }
   ],
   "source": [
    "bank.boxplot(column='balance')\n",
    "plt.show()"
   ]
  },
  {
   "cell_type": "markdown",
   "metadata": {},
   "source": [
    "### 5. Variable correlation study [30pts]"
   ]
  },
  {
   "cell_type": "code",
   "execution_count": null,
   "metadata": {},
   "outputs": [],
   "source": []
  },
  {
   "cell_type": "markdown",
   "metadata": {},
   "source": [
    "##### <b> 5.1. Balance and loan. [15pts]\n",
    "\n",
    "    a. create an equal sized binning for the balance variable. show the freq table. [5pts] \n",
    "    b. show the cross table between balance and loan. perform the chi-2 test. [5pts] \n",
    "    c. interpret the cross table and the chi-2 value. do people with loan have a positive balance? is there a relationship between the two variables? [5pts]\n",
    "    "
   ]
  },
  {
   "cell_type": "code",
   "execution_count": 169,
   "metadata": {
    "tags": []
   },
   "outputs": [
    {
     "data": {
      "text/plain": [
       "balance         \n",
       "(-1980.1, 97.0]     2405\n",
       "(1276.0, 4216.0]    2397\n",
       "(455.0, 1276.0]     2396\n",
       "(97.0, 455.0]       2395\n",
       "dtype: int64"
      ]
     },
     "execution_count": 169,
     "metadata": {},
     "output_type": "execute_result"
    }
   ],
   "source": [
    "bank_binned = pd.DataFrame()\n",
    "bank_binned['balance'] = pd.qcut(bank['balance'], q=4, precision=1, duplicates='drop')\n",
    "bank_binned.value_counts()"
   ]
  },
  {
   "cell_type": "code",
   "execution_count": 170,
   "metadata": {
    "tags": []
   },
   "outputs": [
    {
     "data": {
      "text/html": [
       "<div>\n",
       "<style scoped>\n",
       "    .dataframe tbody tr th:only-of-type {\n",
       "        vertical-align: middle;\n",
       "    }\n",
       "\n",
       "    .dataframe tbody tr th {\n",
       "        vertical-align: top;\n",
       "    }\n",
       "\n",
       "    .dataframe thead th {\n",
       "        text-align: right;\n",
       "    }\n",
       "</style>\n",
       "<table border=\"1\" class=\"dataframe\">\n",
       "  <thead>\n",
       "    <tr style=\"text-align: right;\">\n",
       "      <th></th>\n",
       "      <th>balance</th>\n",
       "    </tr>\n",
       "  </thead>\n",
       "  <tbody>\n",
       "    <tr>\n",
       "      <th>0</th>\n",
       "      <td>(-1980.1, 97.0]</td>\n",
       "    </tr>\n",
       "    <tr>\n",
       "      <th>1</th>\n",
       "      <td>(97.0, 455.0]</td>\n",
       "    </tr>\n",
       "    <tr>\n",
       "      <th>2</th>\n",
       "      <td>(-1980.1, 97.0]</td>\n",
       "    </tr>\n",
       "    <tr>\n",
       "      <th>3</th>\n",
       "      <td>(-1980.1, 97.0]</td>\n",
       "    </tr>\n",
       "    <tr>\n",
       "      <th>4</th>\n",
       "      <td>(455.0, 1276.0]</td>\n",
       "    </tr>\n",
       "    <tr>\n",
       "      <th>...</th>\n",
       "      <td>...</td>\n",
       "    </tr>\n",
       "    <tr>\n",
       "      <th>10572</th>\n",
       "      <td>(97.0, 455.0]</td>\n",
       "    </tr>\n",
       "    <tr>\n",
       "      <th>10573</th>\n",
       "      <td>(1276.0, 4216.0]</td>\n",
       "    </tr>\n",
       "    <tr>\n",
       "      <th>10574</th>\n",
       "      <td>(455.0, 1276.0]</td>\n",
       "    </tr>\n",
       "    <tr>\n",
       "      <th>10575</th>\n",
       "      <td>(455.0, 1276.0]</td>\n",
       "    </tr>\n",
       "    <tr>\n",
       "      <th>10576</th>\n",
       "      <td>(1276.0, 4216.0]</td>\n",
       "    </tr>\n",
       "  </tbody>\n",
       "</table>\n",
       "<p>9593 rows × 1 columns</p>\n",
       "</div>"
      ],
      "text/plain": [
       "                balance\n",
       "0       (-1980.1, 97.0]\n",
       "1         (97.0, 455.0]\n",
       "2       (-1980.1, 97.0]\n",
       "3       (-1980.1, 97.0]\n",
       "4       (455.0, 1276.0]\n",
       "...                 ...\n",
       "10572     (97.0, 455.0]\n",
       "10573  (1276.0, 4216.0]\n",
       "10574   (455.0, 1276.0]\n",
       "10575   (455.0, 1276.0]\n",
       "10576  (1276.0, 4216.0]\n",
       "\n",
       "[9593 rows x 1 columns]"
      ]
     },
     "execution_count": 170,
     "metadata": {},
     "output_type": "execute_result"
    }
   ],
   "source": [
    "bank_binned"
   ]
  },
  {
   "cell_type": "code",
   "execution_count": 171,
   "metadata": {
    "tags": []
   },
   "outputs": [
    {
     "data": {
      "text/html": [
       "<div>\n",
       "<style scoped>\n",
       "    .dataframe tbody tr th:only-of-type {\n",
       "        vertical-align: middle;\n",
       "    }\n",
       "\n",
       "    .dataframe tbody tr th {\n",
       "        vertical-align: top;\n",
       "    }\n",
       "\n",
       "    .dataframe thead th {\n",
       "        text-align: right;\n",
       "    }\n",
       "</style>\n",
       "<table border=\"1\" class=\"dataframe\">\n",
       "  <thead>\n",
       "    <tr style=\"text-align: right;\">\n",
       "      <th>loan</th>\n",
       "      <th>no</th>\n",
       "      <th>yes</th>\n",
       "    </tr>\n",
       "    <tr>\n",
       "      <th>balance</th>\n",
       "      <th></th>\n",
       "      <th></th>\n",
       "    </tr>\n",
       "  </thead>\n",
       "  <tbody>\n",
       "    <tr>\n",
       "      <th>(-1980.1, 97.0]</th>\n",
       "      <td>1913</td>\n",
       "      <td>492</td>\n",
       "    </tr>\n",
       "    <tr>\n",
       "      <th>(97.0, 455.0]</th>\n",
       "      <td>2059</td>\n",
       "      <td>336</td>\n",
       "    </tr>\n",
       "    <tr>\n",
       "      <th>(455.0, 1276.0]</th>\n",
       "      <td>2123</td>\n",
       "      <td>273</td>\n",
       "    </tr>\n",
       "    <tr>\n",
       "      <th>(1276.0, 4216.0]</th>\n",
       "      <td>2180</td>\n",
       "      <td>217</td>\n",
       "    </tr>\n",
       "  </tbody>\n",
       "</table>\n",
       "</div>"
      ],
      "text/plain": [
       "loan                no  yes\n",
       "balance                    \n",
       "(-1980.1, 97.0]   1913  492\n",
       "(97.0, 455.0]     2059  336\n",
       "(455.0, 1276.0]   2123  273\n",
       "(1276.0, 4216.0]  2180  217"
      ]
     },
     "execution_count": 171,
     "metadata": {},
     "output_type": "execute_result"
    }
   ],
   "source": [
    "balance_loan_crosstable = pd.crosstab(bank_binned['balance'], bank['loan'])\n",
    "balance_loan_crosstable"
   ]
  },
  {
   "cell_type": "code",
   "execution_count": 172,
   "metadata": {
    "tags": []
   },
   "outputs": [
    {
     "name": "stdout",
     "output_type": "stream",
     "text": [
      "147.2942469008011 1.0102123147472865e-31\n"
     ]
    }
   ],
   "source": [
    "from scipy.stats import chi2_contingency\n",
    "chi2, p, dof, expected = chi2_contingency(balance_loan_crosstable.values)\n",
    "print(chi2, p)"
   ]
  },
  {
   "cell_type": "code",
   "execution_count": null,
   "metadata": {},
   "outputs": [],
   "source": [
    "#Given the very low p-value and high chi-squared value, it is evident that there is a\n",
    "#significant relationship between balance and loan status. Individuals with personal \n",
    "#loans generally have lower balances compared to those without loans. While it is true \n",
    "#that people with loans can have positive balances, comparing balance brackets based on\n",
    "#the loan status (yes/no) reveals that the proportion of individuals without loans and\n",
    "#a positive balance is considerably higher than that of individuals with loans who\n",
    "#also have a positive balance."
   ]
  },
  {
   "cell_type": "markdown",
   "metadata": {},
   "source": [
    "##### <b> 5.2. visual plots [15pts]\n",
    "\n",
    "    a. subset the bank dataframe for balance between 0 and 2000 into balance2000 dataframe. [5pts]\n",
    "    b. show colored scatter plot of balance and age from the balance2000 colored based on loan. [5pts]\n",
    "    c. subset the bank dataframe into bank_loanyes and bankloanno then show density plots for both. use df.colname.plot.density() 5pts  \n"
   ]
  },
  {
   "cell_type": "code",
   "execution_count": 173,
   "metadata": {
    "tags": []
   },
   "outputs": [
    {
     "data": {
      "text/html": [
       "<div>\n",
       "<style scoped>\n",
       "    .dataframe tbody tr th:only-of-type {\n",
       "        vertical-align: middle;\n",
       "    }\n",
       "\n",
       "    .dataframe tbody tr th {\n",
       "        vertical-align: top;\n",
       "    }\n",
       "\n",
       "    .dataframe thead th {\n",
       "        text-align: right;\n",
       "    }\n",
       "</style>\n",
       "<table border=\"1\" class=\"dataframe\">\n",
       "  <thead>\n",
       "    <tr style=\"text-align: right;\">\n",
       "      <th></th>\n",
       "      <th>education</th>\n",
       "      <th>customer_id</th>\n",
       "      <th>age</th>\n",
       "      <th>marital</th>\n",
       "      <th>job</th>\n",
       "      <th>default</th>\n",
       "      <th>balance</th>\n",
       "      <th>housing</th>\n",
       "      <th>loan</th>\n",
       "      <th>age_log2</th>\n",
       "      <th>age_imputed</th>\n",
       "    </tr>\n",
       "  </thead>\n",
       "  <tbody>\n",
       "    <tr>\n",
       "      <th>0</th>\n",
       "      <td>secondary</td>\n",
       "      <td>100103</td>\n",
       "      <td>33.0</td>\n",
       "      <td>married</td>\n",
       "      <td>entrepreneur</td>\n",
       "      <td>no</td>\n",
       "      <td>2</td>\n",
       "      <td>yes</td>\n",
       "      <td>yes</td>\n",
       "      <td>5.044394</td>\n",
       "      <td>33.0</td>\n",
       "    </tr>\n",
       "    <tr>\n",
       "      <th>1</th>\n",
       "      <td>tertiary</td>\n",
       "      <td>100106</td>\n",
       "      <td>35.0</td>\n",
       "      <td>married</td>\n",
       "      <td>management</td>\n",
       "      <td>no</td>\n",
       "      <td>231</td>\n",
       "      <td>yes</td>\n",
       "      <td>no</td>\n",
       "      <td>5.129283</td>\n",
       "      <td>35.0</td>\n",
       "    </tr>\n",
       "    <tr>\n",
       "      <th>2</th>\n",
       "      <td>primary</td>\n",
       "      <td>100118</td>\n",
       "      <td>57.0</td>\n",
       "      <td>married</td>\n",
       "      <td>blue-collar</td>\n",
       "      <td>no</td>\n",
       "      <td>52</td>\n",
       "      <td>yes</td>\n",
       "      <td>no</td>\n",
       "      <td>5.832890</td>\n",
       "      <td>57.0</td>\n",
       "    </tr>\n",
       "    <tr>\n",
       "      <th>3</th>\n",
       "      <td>primary</td>\n",
       "      <td>100119</td>\n",
       "      <td>60.0</td>\n",
       "      <td>married</td>\n",
       "      <td>retired</td>\n",
       "      <td>no</td>\n",
       "      <td>60</td>\n",
       "      <td>yes</td>\n",
       "      <td>no</td>\n",
       "      <td>5.906891</td>\n",
       "      <td>60.0</td>\n",
       "    </tr>\n",
       "    <tr>\n",
       "      <th>4</th>\n",
       "      <td>secondary</td>\n",
       "      <td>100121</td>\n",
       "      <td>28.0</td>\n",
       "      <td>married</td>\n",
       "      <td>blue-collar</td>\n",
       "      <td>no</td>\n",
       "      <td>723</td>\n",
       "      <td>yes</td>\n",
       "      <td>yes</td>\n",
       "      <td>4.807355</td>\n",
       "      <td>28.0</td>\n",
       "    </tr>\n",
       "    <tr>\n",
       "      <th>...</th>\n",
       "      <td>...</td>\n",
       "      <td>...</td>\n",
       "      <td>...</td>\n",
       "      <td>...</td>\n",
       "      <td>...</td>\n",
       "      <td>...</td>\n",
       "      <td>...</td>\n",
       "      <td>...</td>\n",
       "      <td>...</td>\n",
       "      <td>...</td>\n",
       "      <td>...</td>\n",
       "    </tr>\n",
       "    <tr>\n",
       "      <th>10571</th>\n",
       "      <td>secondary</td>\n",
       "      <td>145303</td>\n",
       "      <td>34.0</td>\n",
       "      <td>single</td>\n",
       "      <td>admin</td>\n",
       "      <td>no</td>\n",
       "      <td>557</td>\n",
       "      <td>no</td>\n",
       "      <td>no</td>\n",
       "      <td>5.087463</td>\n",
       "      <td>34.0</td>\n",
       "    </tr>\n",
       "    <tr>\n",
       "      <th>10572</th>\n",
       "      <td>tertiary</td>\n",
       "      <td>145304</td>\n",
       "      <td>23.0</td>\n",
       "      <td>single</td>\n",
       "      <td>student</td>\n",
       "      <td>no</td>\n",
       "      <td>113</td>\n",
       "      <td>no</td>\n",
       "      <td>no</td>\n",
       "      <td>4.523562</td>\n",
       "      <td>23.0</td>\n",
       "    </tr>\n",
       "    <tr>\n",
       "      <th>10574</th>\n",
       "      <td>secondary</td>\n",
       "      <td>145306</td>\n",
       "      <td>25.0</td>\n",
       "      <td>single</td>\n",
       "      <td>technician</td>\n",
       "      <td>no</td>\n",
       "      <td>505</td>\n",
       "      <td>no</td>\n",
       "      <td>yes</td>\n",
       "      <td>4.643856</td>\n",
       "      <td>25.0</td>\n",
       "    </tr>\n",
       "    <tr>\n",
       "      <th>10575</th>\n",
       "      <td>tertiary</td>\n",
       "      <td>145307</td>\n",
       "      <td>51.0</td>\n",
       "      <td>married</td>\n",
       "      <td>technician</td>\n",
       "      <td>no</td>\n",
       "      <td>825</td>\n",
       "      <td>no</td>\n",
       "      <td>no</td>\n",
       "      <td>5.672425</td>\n",
       "      <td>51.0</td>\n",
       "    </tr>\n",
       "    <tr>\n",
       "      <th>10576</th>\n",
       "      <td>primary</td>\n",
       "      <td>145308</td>\n",
       "      <td>71.0</td>\n",
       "      <td>divorced</td>\n",
       "      <td>retired</td>\n",
       "      <td>no</td>\n",
       "      <td>1729</td>\n",
       "      <td>no</td>\n",
       "      <td>no</td>\n",
       "      <td>6.149747</td>\n",
       "      <td>71.0</td>\n",
       "    </tr>\n",
       "  </tbody>\n",
       "</table>\n",
       "<p>7499 rows × 11 columns</p>\n",
       "</div>"
      ],
      "text/plain": [
       "       education  customer_id   age   marital           job default  balance  \\\n",
       "0      secondary       100103  33.0   married  entrepreneur      no        2   \n",
       "1       tertiary       100106  35.0   married    management      no      231   \n",
       "2        primary       100118  57.0   married   blue-collar      no       52   \n",
       "3        primary       100119  60.0   married       retired      no       60   \n",
       "4      secondary       100121  28.0   married   blue-collar      no      723   \n",
       "...          ...          ...   ...       ...           ...     ...      ...   \n",
       "10571  secondary       145303  34.0    single         admin      no      557   \n",
       "10572   tertiary       145304  23.0    single       student      no      113   \n",
       "10574  secondary       145306  25.0    single    technician      no      505   \n",
       "10575   tertiary       145307  51.0   married    technician      no      825   \n",
       "10576    primary       145308  71.0  divorced       retired      no     1729   \n",
       "\n",
       "      housing loan  age_log2  age_imputed  \n",
       "0         yes  yes  5.044394         33.0  \n",
       "1         yes   no  5.129283         35.0  \n",
       "2         yes   no  5.832890         57.0  \n",
       "3         yes   no  5.906891         60.0  \n",
       "4         yes  yes  4.807355         28.0  \n",
       "...       ...  ...       ...          ...  \n",
       "10571      no   no  5.087463         34.0  \n",
       "10572      no   no  4.523562         23.0  \n",
       "10574      no  yes  4.643856         25.0  \n",
       "10575      no   no  5.672425         51.0  \n",
       "10576      no   no  6.149747         71.0  \n",
       "\n",
       "[7499 rows x 11 columns]"
      ]
     },
     "execution_count": 173,
     "metadata": {},
     "output_type": "execute_result"
    }
   ],
   "source": [
    "balance2000 = bank[(bank['balance'] >= 0) & (bank['balance'] <= 2000)]\n",
    "balance2000"
   ]
  },
  {
   "cell_type": "code",
   "execution_count": 177,
   "metadata": {
    "tags": []
   },
   "outputs": [
    {
     "data": {
      "text/plain": [
       "<Axes: xlabel='age', ylabel='balance'>"
      ]
     },
     "execution_count": 177,
     "metadata": {},
     "output_type": "execute_result"
    },
    {
     "data": {
      "image/png": "[encoded data removed]",
      "text/plain": [
       "<Figure size 640x480 with 1 Axes>"
      ]
     },
     "metadata": {},
     "output_type": "display_data"
    }
   ],
   "source": [
    "palette = {'yes': 'Green',\n",
    "           'no': 'Red'}\n",
    "\n",
    "colors = [palette[c] for c in balance2000['loan']]\n",
    "balance2000.plot(kind= 'scatter',\n",
    "                 x = 'age',\n",
    "                 y = 'balance',\n",
    "                 c = colors)\n",
    "\n"
   ]
  },
  {
   "cell_type": "code",
   "execution_count": 178,
   "metadata": {
    "scrolled": true,
    "tags": []
   },
   "outputs": [],
   "source": [
    "bankloanyes = bank[bank.loan == 'yes']\n",
    "bankloanno = bank[bank.loan == 'no']"
   ]
  },
  {
   "cell_type": "code",
   "execution_count": 190,
   "metadata": {
    "tags": []
   },
   "outputs": [
    {
     "data": {
      "image/png": "[encoded data removed]",
      "text/plain": [
       "<Figure size 640x480 with 1 Axes>"
      ]
     },
     "metadata": {},
     "output_type": "display_data"
    }
   ],
   "source": [
    "bankloanno.balance.plot.density()\n",
    "bankloanyes.balance.plot.density()\n",
    "plt.title(\"Density Plot for Bank Loan (yes-orange , no-blue)\")\n",
    "plt.show()"
   ]
  },
  {
   "cell_type": "markdown",
   "metadata": {},
   "source": [
    "### 6. apply, split-apply-combine [50pts] "
   ]
  },
  {
   "cell_type": "markdown",
   "metadata": {},
   "source": [
    "##### 6.1. add dummy variables [10pts]\n",
    "\n",
    "    a. lowercase the education column and replace unknown with secondary. 5pts\n",
    "    b. add a new column named secondary that takes the value 1 if education value is 'secondary' and 0 otherwise. [5pts] use apply and lambda to create this new column, 5pts \n",
    "    c. show the frequency table for secondary column."
   ]
  },
  {
   "cell_type": "code",
   "execution_count": 191,
   "metadata": {
    "tags": []
   },
   "outputs": [
    {
     "data": {
      "text/plain": [
       "secondary    4572\n",
       "tertiary     3049\n",
       "primary      1312\n",
       "unknown       411\n",
       "SECONDARY     249\n",
       "Name: education, dtype: int64"
      ]
     },
     "execution_count": 191,
     "metadata": {},
     "output_type": "execute_result"
    }
   ],
   "source": [
    "bank['education'].value_counts()"
   ]
  },
  {
   "cell_type": "code",
   "execution_count": 192,
   "metadata": {
    "tags": []
   },
   "outputs": [
    {
     "data": {
      "text/plain": [
       "secondary    5232\n",
       "tertiary     3049\n",
       "primary      1312\n",
       "Name: education, dtype: int64"
      ]
     },
     "execution_count": 192,
     "metadata": {},
     "output_type": "execute_result"
    }
   ],
   "source": [
    "bank['education'] = bank['education'].str.lower()\n",
    "bank.loc[bank['education']== 'unknown', 'education'] = 'secondary'\n",
    "bank['education'].value_counts()"
   ]
  },
  {
   "cell_type": "code",
   "execution_count": 193,
   "metadata": {
    "tags": []
   },
   "outputs": [
    {
     "data": {
      "text/plain": [
       "1    5232\n",
       "0    4361\n",
       "Name: secondary, dtype: int64"
      ]
     },
     "execution_count": 193,
     "metadata": {},
     "output_type": "execute_result"
    }
   ],
   "source": [
    "bank['secondary'] = bank['education'].apply(lambda x: 1 if x == 'secondary' else 0 )\n",
    "bank['secondary'].value_counts()"
   ]
  },
  {
   "cell_type": "markdown",
   "metadata": {},
   "source": [
    "##### 6.2. apply functions [15pts]\n",
    "\n",
    "    a. define a function named custom_binning that is defined with x, th1 and th2 and assigns <=th1 if the value x is in less than or equal th1, [th1 th2] if the value x falls in the [th1 th2] bin and >=th2 if the value of x is greater than or equal th2. 10pts \n",
    "    b. apply the function on age with th1=30, th2=50. Show the frequency table. 5pts"
   ]
  },
  {
   "cell_type": "code",
   "execution_count": 194,
   "metadata": {
    "tags": []
   },
   "outputs": [],
   "source": [
    "def custom_binning(x, th1, th2):\n",
    "    if x <= th1:\n",
    "        return f\"<= {th1}\"\n",
    "    elif th1 < x < th2:\n",
    "        return f\"[{th1} {th2}]\"\n",
    "    else:\n",
    "        return f\">= {th2}\""
   ]
  },
  {
   "cell_type": "code",
   "execution_count": 195,
   "metadata": {
    "tags": []
   },
   "outputs": [
    {
     "data": {
      "text/plain": [
       "[30 50]    5553\n",
       ">= 50      2247\n",
       "<= 30      1793\n",
       "Name: age, dtype: int64"
      ]
     },
     "execution_count": 195,
     "metadata": {},
     "output_type": "execute_result"
    }
   ],
   "source": [
    "age_binned = bank['age'].apply(custom_binning, th1= 30, th2=50)\n",
    "age_binned.value_counts()"
   ]
  },
  {
   "cell_type": "markdown",
   "metadata": {},
   "source": [
    "##### 6.3. vectorizing functions [15pts]\n",
    "    a. define a vectorized function with housing, loan and education vectors. The function returns a score that accumulates points based on loan, housing and education. [10pts] \n",
    "    The score increments as follows: \n",
    "    if housing is yes, the score adds by 1. \n",
    "    if loan is no, the score adds by 1. \n",
    "    if education is tertiary, the score increments by 1.   \n",
    "    b. call the functions with housing, loan and education from bank dataframe. add risk column to the dataframe and show the frequency table. [5pts] \n",
    "    \n",
    "    "
   ]
  },
  {
   "cell_type": "code",
   "execution_count": 196,
   "metadata": {
    "tags": []
   },
   "outputs": [],
   "source": [
    "@np.vectorize\n",
    "def points(h, l, e):\n",
    "    score = 0\n",
    "    if h == 'yes':\n",
    "        score += 1\n",
    "    if l == 'no':\n",
    "        score += 1\n",
    "    if e == 'tertiary':\n",
    "        score += 1\n",
    "    return score"
   ]
  },
  {
   "cell_type": "code",
   "execution_count": 197,
   "metadata": {
    "tags": []
   },
   "outputs": [
    {
     "data": {
      "text/plain": [
       "2    4660\n",
       "1    3466\n",
       "3    1055\n",
       "0     412\n",
       "Name: risk, dtype: int64"
      ]
     },
     "execution_count": 197,
     "metadata": {},
     "output_type": "execute_result"
    }
   ],
   "source": [
    "bank['risk'] = points(bank['housing'], bank['loan'], bank['education'])\n",
    "bank['risk'].value_counts()"
   ]
  },
  {
   "cell_type": "markdown",
   "metadata": {},
   "source": [
    "##### 6.4. Aggregation [10pts]\n",
    "    a. use agg() function after grouping by housing to calculate the median age, the mean balance. 5pts  \n",
    "    b. use transform() function after grouping by housing to standardize the balance per each group. save into a new column named: balance_grpZ. call describe() on the new balance_grpZ column. [5pts]\n",
    "    "
   ]
  },
  {
   "cell_type": "code",
   "execution_count": 198,
   "metadata": {
    "tags": []
   },
   "outputs": [
    {
     "data": {
      "text/html": [
       "<div>\n",
       "<style scoped>\n",
       "    .dataframe tbody tr th:only-of-type {\n",
       "        vertical-align: middle;\n",
       "    }\n",
       "\n",
       "    .dataframe tbody tr th {\n",
       "        vertical-align: top;\n",
       "    }\n",
       "\n",
       "    .dataframe thead th {\n",
       "        text-align: right;\n",
       "    }\n",
       "</style>\n",
       "<table border=\"1\" class=\"dataframe\">\n",
       "  <thead>\n",
       "    <tr style=\"text-align: right;\">\n",
       "      <th></th>\n",
       "      <th>age</th>\n",
       "      <th>balance</th>\n",
       "    </tr>\n",
       "    <tr>\n",
       "      <th>housing</th>\n",
       "      <th></th>\n",
       "      <th></th>\n",
       "    </tr>\n",
       "  </thead>\n",
       "  <tbody>\n",
       "    <tr>\n",
       "      <th>no</th>\n",
       "      <td>40.0</td>\n",
       "      <td>948.537656</td>\n",
       "    </tr>\n",
       "    <tr>\n",
       "      <th>yes</th>\n",
       "      <td>37.0</td>\n",
       "      <td>721.314675</td>\n",
       "    </tr>\n",
       "  </tbody>\n",
       "</table>\n",
       "</div>"
      ],
      "text/plain": [
       "          age     balance\n",
       "housing                  \n",
       "no       40.0  948.537656\n",
       "yes      37.0  721.314675"
      ]
     },
     "execution_count": 198,
     "metadata": {},
     "output_type": "execute_result"
    }
   ],
   "source": [
    "bank.groupby(['housing']).agg({'age': 'median', 'balance': 'mean'})"
   ]
  },
  {
   "cell_type": "code",
   "execution_count": 199,
   "metadata": {
    "tags": []
   },
   "outputs": [
    {
     "data": {
      "text/plain": [
       "count    9.593000e+03\n",
       "mean     4.740408e-17\n",
       "std      9.999479e-01\n",
       "min     -2.747990e+00\n",
       "25%     -7.164844e-01\n",
       "50%     -3.645059e-01\n",
       "75%      4.299888e-01\n",
       "max      3.534724e+00\n",
       "Name: balance_grpZ, dtype: float64"
      ]
     },
     "execution_count": 199,
     "metadata": {},
     "output_type": "execute_result"
    }
   ],
   "source": [
    "bank['balance_grpZ'] = bank.groupby(['housing'])['balance'].transform(lambda x: (x- x.mean())/ x.std())\n",
    "bank['balance_grpZ'].describe()"
   ]
  },
  {
   "cell_type": "code",
   "execution_count": null,
   "metadata": {},
   "outputs": [],
   "source": []
  }
 ],
 "metadata": {
  "kernelspec": {
   "display_name": "Python 3 (ipykernel)",
   "language": "python",
   "name": "python3"
  },
  "language_info": {
   "codemirror_mode": {
    "name": "ipython",
    "version": 3
   },
   "file_extension": ".py",
   "mimetype": "text/x-python",
   "name": "python",
   "nbconvert_exporter": "python",
   "pygments_lexer": "ipython3",
   "version": "3.11.4"
  }
 },
 "nbformat": 4,
 "nbformat_minor": 4
}
